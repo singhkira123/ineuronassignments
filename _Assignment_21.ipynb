{
 "cells": [
  {
   "cell_type": "markdown",
   "id": "de299ee4",
   "metadata": {},
   "source": [
    "# Assignment_21 Solution"
   ]
  },
  {
   "cell_type": "markdown",
   "id": "7a4d7019",
   "metadata": {},
   "source": [
    "##### 1. Add the current date to the text file today.txt as a string."
   ]
  },
  {
   "cell_type": "code",
   "execution_count": 1,
   "id": "0884fa8c",
   "metadata": {},
   "outputs": [
    {
     "name": "stdout",
     "output_type": "stream",
     "text": [
      "11-07-2022\n"
     ]
    }
   ],
   "source": [
    "import datetime\n",
    "# Code to Add current date to the today.txt file\n",
    "file = open('today.txt','w')\n",
    "file.write(datetime.datetime.now().strftime(\"%d-%m-%Y\"))\n",
    "file.close()\n",
    "# Code to Read current date from today.txt file\n",
    "file = open('today.txt','r')\n",
    "print(file.read())\n",
    "file.close()"
   ]
  },
  {
   "cell_type": "markdown",
   "id": "e2a2816b",
   "metadata": {},
   "source": [
    "##### 2. Read the text file today.txt into the string today_string"
   ]
  },
  {
   "cell_type": "code",
   "execution_count": 2,
   "id": "b0f483c0",
   "metadata": {},
   "outputs": [
    {
     "name": "stdout",
     "output_type": "stream",
     "text": [
      "11-07-2022\n"
     ]
    }
   ],
   "source": [
    "file = open('today.txt','r')\n",
    "today_string = file.read()\n",
    "print(today_string)"
   ]
  },
  {
   "cell_type": "markdown",
   "id": "0f6750ca",
   "metadata": {},
   "source": [
    "##### 3. Parse the date from today_string."
   ]
  },
  {
   "cell_type": "code",
   "execution_count": 3,
   "id": "05fd4045",
   "metadata": {},
   "outputs": [
    {
     "name": "stdout",
     "output_type": "stream",
     "text": [
      "2022-07-11 00:00:00\n"
     ]
    }
   ],
   "source": [
    "from datetime import datetime\n",
    "parsed_data = datetime.strptime(today_string, '%d-%m-%Y')\n",
    "print(parsed_data)"
   ]
  },
  {
   "cell_type": "markdown",
   "id": "5366726b",
   "metadata": {},
   "source": [
    "##### 4. List the files in your current directory"
   ]
  },
  {
   "cell_type": "code",
   "execution_count": 4,
   "id": "9f92a738",
   "metadata": {},
   "outputs": [
    {
     "name": "stdout",
     "output_type": "stream",
     "text": [
      " Assignment_14.ipynb\n",
      " Assignment_16.ipynb\n",
      " Assignment_17.ipynb\n",
      " Assignment_18.ipynb\n",
      " Assignment_20.ipynb\n",
      " Assignment_21.ipynb\n",
      ".jovianrc\n",
      "Assignment_15.ipynb\n",
      "Assignment_19.ipynb\n",
      "books.csv\n",
      "books.db\n",
      "Resume.ipynb\n",
      "test.txt\n",
      "today.txt\n",
      " Assignment_14-checkpoint.ipynb\n",
      " Assignment_16-checkpoint.ipynb\n",
      " Assignment_17-checkpoint.ipynb\n",
      " Assignment_18-checkpoint.ipynb\n",
      " Assignment_20-checkpoint.ipynb\n",
      " Assignment_21-checkpoint.ipynb\n",
      "Assignment_15-checkpoint.ipynb\n",
      "Assignment_19-checkpoint.ipynb\n",
      "Resume-checkpoint.ipynb\n"
     ]
    }
   ],
   "source": [
    "import os\n",
    "for folders, subfolders, files in os.walk(os.getcwd()):\n",
    "    for file in files:\n",
    "        print(file)"
   ]
  },
  {
   "cell_type": "markdown",
   "id": "4b64c920",
   "metadata": {},
   "source": [
    "##### 5. Create a list of all of the files in your parent directory (minimum five files should be available)."
   ]
  },
  {
   "cell_type": "code",
   "execution_count": 5,
   "id": "4944859a",
   "metadata": {},
   "outputs": [
    {
     "data": {
      "text/plain": [
       "[' Assignment_14.ipynb',\n",
       " ' Assignment_16.ipynb',\n",
       " ' Assignment_17.ipynb',\n",
       " ' Assignment_18.ipynb',\n",
       " ' Assignment_20.ipynb',\n",
       " ' Assignment_21.ipynb',\n",
       " '.ipynb_checkpoints',\n",
       " '.jovianrc',\n",
       " 'Assignment_15.ipynb',\n",
       " 'Assignment_19.ipynb',\n",
       " 'books.csv',\n",
       " 'books.db',\n",
       " 'Resume.ipynb',\n",
       " 'test.txt',\n",
       " 'today.txt']"
      ]
     },
     "execution_count": 5,
     "metadata": {},
     "output_type": "execute_result"
    }
   ],
   "source": [
    "import os \n",
    "os.listdir()"
   ]
  },
  {
   "cell_type": "markdown",
   "id": "018b2439",
   "metadata": {},
   "source": [
    "##### 6. Use multiprocessing to create three separate processes. Make each one wait a random number of seconds between one and five, print the current time, and then exit."
   ]
  },
  {
   "cell_type": "code",
   "execution_count": 6,
   "id": "2ddef76a",
   "metadata": {},
   "outputs": [],
   "source": [
    "import multiprocessing\n",
    "import time \n",
    "import random\n",
    "import datetime\n",
    "\n",
    "def procOne():\n",
    "    print(f'Proc_one_Starttime -> {datetime.datetime.now()}')\n",
    "    time.sleep(random.randint(1,5))\n",
    "    print(f'Proc_one_Endtime -> {datetime.datetime.now()}')\n",
    "    \n",
    "def procTwo():\n",
    "    print(f'Proc_two_Starttime -> {datetime.datetime.now()}')\n",
    "    time.sleep(random.randint(1,5))\n",
    "    print(f'Proc_two_Endtime -> {datetime.datetime.now()}')\n",
    "\n",
    "def procThree():\n",
    "    print(f'Proc_two_Starttime -> {datetime.datetime.now()}')\n",
    "    time.sleep(random.randint(1,5))\n",
    "    print(f'Proc_two_Endtime -> {datetime.datetime.now()}')\n",
    "    \n",
    "if __name__ == \"__main__\":    \n",
    "    p1 = multiprocessing.Process(target=procOne)\n",
    "    p2 = multiprocessing.Process(target=procTwo)\n",
    "    p3 = multiprocessing.Process(target=procThree)\n",
    "\n",
    "    p1.start()\n",
    "    p2.start()\n",
    "    p3.start()\n",
    "\n",
    "    p1.join()\n",
    "    p2.join()\n",
    "    p3.join()"
   ]
  },
  {
   "cell_type": "raw",
   "id": "e8f5536d",
   "metadata": {},
   "source": [
    "\n",
    "Due to some unknown reason. the above did not print any results in the jupyter cell. so i copied the code to a python file. executed it and pasted the ouput here\n",
    "(base) \n",
    "'C:\\\\Users\\\\62114\\\\Kiran'Desktop>python es_poc.py\n",
    "Proc_one_Starttime -> 2022-7-11 18:41:59.354061\n",
    "Proc_two_Starttime -> 2022-7-11 18:41:59.363712\n",
    "Proc_two_Starttime -> 2022-7-11 18:41:59.367238\n",
    "Proc_two_Endtime -> 2022-7-11 18:42:04.369860\n",
    "Proc_two_Endtime -> 2022-7-11 18:42:04.369860\n",
    "Proc_one_Endtime -> 2022-7-11 18:42:04.369860"
   ]
  },
  {
   "cell_type": "markdown",
   "id": "f5ef3162",
   "metadata": {},
   "source": [
    "##### 7. Create a date object of your day of birth."
   ]
  },
  {
   "cell_type": "code",
   "execution_count": 9,
   "id": "c1bc9798",
   "metadata": {},
   "outputs": [
    {
     "name": "stdout",
     "output_type": "stream",
     "text": [
      "1998-01-03 00:00:00 <class 'datetime.datetime'>\n"
     ]
    }
   ],
   "source": [
    "from datetime import datetime\n",
    "my_dob = datetime.strptime('03/01/1998','%d/%m/%Y')\n",
    "print(my_dob, type(my_dob))"
   ]
  },
  {
   "cell_type": "markdown",
   "id": "0ef0a0db",
   "metadata": {},
   "source": [
    "#### 8. What day of the week was your day of birth?"
   ]
  },
  {
   "cell_type": "code",
   "execution_count": 13,
   "id": "fea4f731",
   "metadata": {},
   "outputs": [
    {
     "data": {
      "text/plain": [
       "'Saturday'"
      ]
     },
     "execution_count": 13,
     "metadata": {},
     "output_type": "execute_result"
    }
   ],
   "source": [
    "from datetime import datetime\n",
    "my_dob = datetime(1998,1,3)\n",
    "my_dob.strftime(\"%A\")"
   ]
  },
  {
   "cell_type": "markdown",
   "id": "095fce48",
   "metadata": {},
   "source": [
    "##### 9. When will you be (or when were you) 10,000 days old?"
   ]
  },
  {
   "cell_type": "code",
   "execution_count": 15,
   "id": "1959d7ef",
   "metadata": {},
   "outputs": [
    {
     "data": {
      "text/plain": [
       "datetime.datetime(1970, 8, 18, 0, 0)"
      ]
     },
     "execution_count": 15,
     "metadata": {},
     "output_type": "execute_result"
    }
   ],
   "source": [
    "from datetime import datetime, timedelta\n",
    "my_dob = datetime.strptime(\"03/01/1998\",'%d/%m/%Y')\n",
    "future_date = my_dob-timedelta(10000)\n",
    "future_date"
   ]
  }
 ],
 "metadata": {
  "kernelspec": {
   "display_name": "Python 3",
   "language": "python",
   "name": "python3"
  },
  "language_info": {
   "codemirror_mode": {
    "name": "ipython",
    "version": 3
   },
   "file_extension": ".py",
   "mimetype": "text/x-python",
   "name": "python",
   "nbconvert_exporter": "python",
   "pygments_lexer": "ipython3",
   "version": "3.8.8"
  }
 },
 "nbformat": 4,
 "nbformat_minor": 5
}
