{
 "cells": [
  {
   "cell_type": "code",
   "execution_count": null,
   "id": "1a0dcc9a",
   "metadata": {},
   "outputs": [],
   "source": [
    "#1. In the below elements which of them are values or an expression? eg:- values can be\n",
    "integer or string and expressions will be mathematical operators.\n",
    "\n",
    "Answer:\n",
    "\n",
    "        *------>'expression'\n",
    "\n",
    "        'hello'------>'value'\n",
    "\n",
    "        -87.8------>'expression'\n",
    "\n",
    "        - ----->'expression'\n",
    "\n",
    "\n",
    "        /----->'expression'\n",
    "\n",
    "        +----->'expression'\n",
    "\n",
    "        6----->'value'"
   ]
  },
  {
   "cell_type": "code",
   "execution_count": null,
   "id": "229a4010",
   "metadata": {},
   "outputs": [],
   "source": [
    "2. What is the difference between string and variable?\n",
    "\n",
    "Answer: String: can be written in quotes such: \"apple\", 'apple'\n",
    "\n",
    "        Variable: It is the thing in which we can store data just like a container."
   ]
  },
  {
   "cell_type": "code",
   "execution_count": null,
   "id": "9cc8a550",
   "metadata": {},
   "outputs": [],
   "source": [
    "3. Describe three different data types.\n",
    "\n",
    "Answer:     List: the list is used for storing multiple data items in a single variable.\n",
    "\n",
    "            Integer: integer can store only numerical values.\n",
    "\n",
    "            Float: float can store only floating values such as 233.33, 22.2, etc."
   ]
  },
  {
   "cell_type": "code",
   "execution_count": null,
   "id": "7efeac60",
   "metadata": {},
   "outputs": [],
   "source": [
    "4. What is an expression made up of? What do all expressions do? \n",
    "\n",
    "Answer:   Expression is made up of values, containers, and mathematical operators (operands) e.g \n",
    "\n",
    "           a = 2 + 3     and expressions are used to evaluate the values or represent the result on the screen."
   ]
  },
  {
   "cell_type": "code",
   "execution_count": null,
   "id": "498d8329",
   "metadata": {},
   "outputs": [],
   "source": [
    "5. This assignment statements, like spam = 10. What is the difference between an expression and a statement?\n",
    "\n",
    "Answer: Expression is made up of values, containers, and mathematical operators (operands) and the statement is just like  \n",
    "        a  command that a python interpreter executes like print."
   ]
  },
  {
   "cell_type": "code",
   "execution_count": null,
   "id": "a368736f",
   "metadata": {},
   "outputs": [],
   "source": [
    "6. After running the following code, what does the variable bacon contain?\n",
    "\n",
    "bacon = 22\n",
    "\n",
    "bacon + 1\n",
    "\n",
    "Sol: it gives 23 as execution code \n",
    "    \n"
   ]
  },
  {
   "cell_type": "code",
   "execution_count": 1,
   "id": "e7f9162d",
   "metadata": {},
   "outputs": [
    {
     "data": {
      "text/plain": [
       "23"
      ]
     },
     "execution_count": 1,
     "metadata": {},
     "output_type": "execute_result"
    }
   ],
   "source": [
    "bacon = 22\n",
    "\n",
    "bacon + 1"
   ]
  },
  {
   "cell_type": "code",
   "execution_count": null,
   "id": "714c68bb",
   "metadata": {},
   "outputs": [],
   "source": [
    "7. What should the values of the following two terms be?\n",
    "\n",
    "'spam' + 'spamspam'\n",
    "\n",
    "'spam' * 3\n",
    "\n",
    "sol: it will be the same"
   ]
  },
  {
   "cell_type": "code",
   "execution_count": 2,
   "id": "1f9f8c8e",
   "metadata": {},
   "outputs": [
    {
     "data": {
      "text/plain": [
       "'spamspamspam'"
      ]
     },
     "execution_count": 2,
     "metadata": {},
     "output_type": "execute_result"
    }
   ],
   "source": [
    "'spam' + 'spamspam'\n",
    "\n",
    "'spam' * 3"
   ]
  },
  {
   "cell_type": "code",
   "execution_count": null,
   "id": "625a5e95",
   "metadata": {},
   "outputs": [],
   "source": [
    "8. Why is eggs a valid variable name while 100 is invalid?\n",
    "\n",
    "Answer: Because we can't start giving variable an integer name. if we, we should begin with, a string-like alphabet name \n",
    "        then integer. e100 or eggs100 is valid"
   ]
  },
  {
   "cell_type": "code",
   "execution_count": null,
   "id": "fdd52d34",
   "metadata": {},
   "outputs": [],
   "source": [
    "9. What three functions can be used to get the integer, floating-point number, or string version of a value?\n",
    "\n",
    "Answer: str(), int(), float()"
   ]
  },
  {
   "cell_type": "code",
   "execution_count": null,
   "id": "f5416905",
   "metadata": {},
   "outputs": [],
   "source": [
    "10. Why does this expression cause an error? How can you fix it?\n",
    "\n",
    "'I have eaten' + 99 + 'burritos' \n",
    "\n",
    "Answer:  Because 99 is an integer it cannot be concatenated with strings, if we have to concatenate it we need to do \n",
    "      typecasting."
   ]
  },
  {
   "cell_type": "code",
   "execution_count": 6,
   "id": "ef2f5bcb",
   "metadata": {},
   "outputs": [
    {
     "data": {
      "text/plain": [
       "'I have eaten 99 burritos'"
      ]
     },
     "execution_count": 6,
     "metadata": {},
     "output_type": "execute_result"
    }
   ],
   "source": [
    "'I have eaten' + \" 99 \" + 'burritos' \n"
   ]
  }
 ],
 "metadata": {
  "kernelspec": {
   "display_name": "Python 3",
   "language": "python",
   "name": "python3"
  },
  "language_info": {
   "codemirror_mode": {
    "name": "ipython",
    "version": 3
   },
   "file_extension": ".py",
   "mimetype": "text/x-python",
   "name": "python",
   "nbconvert_exporter": "python",
   "pygments_lexer": "ipython3",
   "version": "3.8.8"
  }
 },
 "nbformat": 4,
 "nbformat_minor": 5
}
